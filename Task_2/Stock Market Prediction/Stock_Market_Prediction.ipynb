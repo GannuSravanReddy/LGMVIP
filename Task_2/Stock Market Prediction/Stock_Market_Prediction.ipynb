{
  "cells": [
    {
      "cell_type": "markdown",
      "source": [
        "# **LetsGrowMore**\n",
        "**Name :** Gannu Sravan Reddy\n",
        "\n",
        "**Task-2 :** Stock Market Prediction And Forecasting Using Stacked LSTM\n",
        "\n",
        "**Level :** BEGINNER LEVEL TASK\n"
      ],
      "metadata": {
        "id": "p5Uq-nhCNBhr"
      }
    },
    {
      "cell_type": "markdown",
      "source": [
        "# **Importing Basic packages**"
      ],
      "metadata": {
        "id": "TmiZJum_vRJS"
      }
    },
    {
      "cell_type": "code",
      "execution_count": 94,
      "metadata": {
        "id": "OMjzh7rGcN2Z"
      },
      "outputs": [],
      "source": [
        "import pandas as pd\n",
        "import numpy as np\n",
        "import matplotlib.pyplot as plt\n",
        "%matplotlib inline\n",
        "import seaborn"
      ]
    },
    {
      "cell_type": "markdown",
      "source": [
        "# **Reading data set and displaying it**"
      ],
      "metadata": {
        "id": "cfJa7VMMvqT-"
      }
    },
    {
      "cell_type": "code",
      "execution_count": 95,
      "metadata": {
        "id": "WI27qo8WcgkU"
      },
      "outputs": [],
      "source": [
        "df = pd.read_csv('/content/NSE-TATAGLOBAL.csv')"
      ]
    },
    {
      "cell_type": "code",
      "execution_count": 96,
      "metadata": {
        "colab": {
          "base_uri": "https://localhost:8080/",
          "height": 423
        },
        "id": "cj0SBV1Pco2U",
        "outputId": "5a090bb1-c41d-4bc7-9913-1b4a17ab2053"
      },
      "outputs": [
        {
          "output_type": "execute_result",
          "data": {
            "text/html": [
              "\n",
              "  <div id=\"df-03d87de6-7631-4250-abe6-37a7834d228c\">\n",
              "    <div class=\"colab-df-container\">\n",
              "      <div>\n",
              "<style scoped>\n",
              "    .dataframe tbody tr th:only-of-type {\n",
              "        vertical-align: middle;\n",
              "    }\n",
              "\n",
              "    .dataframe tbody tr th {\n",
              "        vertical-align: top;\n",
              "    }\n",
              "\n",
              "    .dataframe thead th {\n",
              "        text-align: right;\n",
              "    }\n",
              "</style>\n",
              "<table border=\"1\" class=\"dataframe\">\n",
              "  <thead>\n",
              "    <tr style=\"text-align: right;\">\n",
              "      <th></th>\n",
              "      <th>Date</th>\n",
              "      <th>Open</th>\n",
              "      <th>High</th>\n",
              "      <th>Low</th>\n",
              "      <th>Last</th>\n",
              "      <th>Close</th>\n",
              "      <th>Total Trade Quantity</th>\n",
              "      <th>Turnover (Lacs)</th>\n",
              "    </tr>\n",
              "  </thead>\n",
              "  <tbody>\n",
              "    <tr>\n",
              "      <th>0</th>\n",
              "      <td>2019-01-04</td>\n",
              "      <td>210.60</td>\n",
              "      <td>214.90</td>\n",
              "      <td>210.00</td>\n",
              "      <td>213.50</td>\n",
              "      <td>213.80</td>\n",
              "      <td>1213181.0</td>\n",
              "      <td>2583.05</td>\n",
              "    </tr>\n",
              "    <tr>\n",
              "      <th>1</th>\n",
              "      <td>2019-01-03</td>\n",
              "      <td>214.95</td>\n",
              "      <td>215.35</td>\n",
              "      <td>209.90</td>\n",
              "      <td>210.55</td>\n",
              "      <td>210.05</td>\n",
              "      <td>2096553.0</td>\n",
              "      <td>4433.50</td>\n",
              "    </tr>\n",
              "    <tr>\n",
              "      <th>2</th>\n",
              "      <td>2019-01-02</td>\n",
              "      <td>219.00</td>\n",
              "      <td>220.35</td>\n",
              "      <td>213.60</td>\n",
              "      <td>214.20</td>\n",
              "      <td>214.60</td>\n",
              "      <td>1081778.0</td>\n",
              "      <td>2340.31</td>\n",
              "    </tr>\n",
              "    <tr>\n",
              "      <th>3</th>\n",
              "      <td>2019-01-01</td>\n",
              "      <td>219.95</td>\n",
              "      <td>221.05</td>\n",
              "      <td>218.05</td>\n",
              "      <td>218.95</td>\n",
              "      <td>219.10</td>\n",
              "      <td>716275.0</td>\n",
              "      <td>1571.63</td>\n",
              "    </tr>\n",
              "    <tr>\n",
              "      <th>4</th>\n",
              "      <td>2018-12-31</td>\n",
              "      <td>222.00</td>\n",
              "      <td>223.65</td>\n",
              "      <td>218.85</td>\n",
              "      <td>219.55</td>\n",
              "      <td>219.40</td>\n",
              "      <td>965858.0</td>\n",
              "      <td>2131.09</td>\n",
              "    </tr>\n",
              "    <tr>\n",
              "      <th>...</th>\n",
              "      <td>...</td>\n",
              "      <td>...</td>\n",
              "      <td>...</td>\n",
              "      <td>...</td>\n",
              "      <td>...</td>\n",
              "      <td>...</td>\n",
              "      <td>...</td>\n",
              "      <td>...</td>\n",
              "    </tr>\n",
              "    <tr>\n",
              "      <th>2095</th>\n",
              "      <td>2010-07-27</td>\n",
              "      <td>117.60</td>\n",
              "      <td>119.50</td>\n",
              "      <td>112.00</td>\n",
              "      <td>118.80</td>\n",
              "      <td>118.65</td>\n",
              "      <td>586100.0</td>\n",
              "      <td>694.98</td>\n",
              "    </tr>\n",
              "    <tr>\n",
              "      <th>2096</th>\n",
              "      <td>2010-07-26</td>\n",
              "      <td>120.10</td>\n",
              "      <td>121.00</td>\n",
              "      <td>117.10</td>\n",
              "      <td>117.10</td>\n",
              "      <td>117.60</td>\n",
              "      <td>658440.0</td>\n",
              "      <td>780.01</td>\n",
              "    </tr>\n",
              "    <tr>\n",
              "      <th>2097</th>\n",
              "      <td>2010-07-23</td>\n",
              "      <td>121.80</td>\n",
              "      <td>121.95</td>\n",
              "      <td>120.25</td>\n",
              "      <td>120.35</td>\n",
              "      <td>120.65</td>\n",
              "      <td>281312.0</td>\n",
              "      <td>340.31</td>\n",
              "    </tr>\n",
              "    <tr>\n",
              "      <th>2098</th>\n",
              "      <td>2010-07-22</td>\n",
              "      <td>120.30</td>\n",
              "      <td>122.00</td>\n",
              "      <td>120.25</td>\n",
              "      <td>120.75</td>\n",
              "      <td>120.90</td>\n",
              "      <td>293312.0</td>\n",
              "      <td>355.17</td>\n",
              "    </tr>\n",
              "    <tr>\n",
              "      <th>2099</th>\n",
              "      <td>2010-07-21</td>\n",
              "      <td>122.10</td>\n",
              "      <td>123.00</td>\n",
              "      <td>121.05</td>\n",
              "      <td>121.10</td>\n",
              "      <td>121.55</td>\n",
              "      <td>658666.0</td>\n",
              "      <td>803.56</td>\n",
              "    </tr>\n",
              "  </tbody>\n",
              "</table>\n",
              "<p>2100 rows × 8 columns</p>\n",
              "</div>\n",
              "      <button class=\"colab-df-convert\" onclick=\"convertToInteractive('df-03d87de6-7631-4250-abe6-37a7834d228c')\"\n",
              "              title=\"Convert this dataframe to an interactive table.\"\n",
              "              style=\"display:none;\">\n",
              "        \n",
              "  <svg xmlns=\"http://www.w3.org/2000/svg\" height=\"24px\"viewBox=\"0 0 24 24\"\n",
              "       width=\"24px\">\n",
              "    <path d=\"M0 0h24v24H0V0z\" fill=\"none\"/>\n",
              "    <path d=\"M18.56 5.44l.94 2.06.94-2.06 2.06-.94-2.06-.94-.94-2.06-.94 2.06-2.06.94zm-11 1L8.5 8.5l.94-2.06 2.06-.94-2.06-.94L8.5 2.5l-.94 2.06-2.06.94zm10 10l.94 2.06.94-2.06 2.06-.94-2.06-.94-.94-2.06-.94 2.06-2.06.94z\"/><path d=\"M17.41 7.96l-1.37-1.37c-.4-.4-.92-.59-1.43-.59-.52 0-1.04.2-1.43.59L10.3 9.45l-7.72 7.72c-.78.78-.78 2.05 0 2.83L4 21.41c.39.39.9.59 1.41.59.51 0 1.02-.2 1.41-.59l7.78-7.78 2.81-2.81c.8-.78.8-2.07 0-2.86zM5.41 20L4 18.59l7.72-7.72 1.47 1.35L5.41 20z\"/>\n",
              "  </svg>\n",
              "      </button>\n",
              "      \n",
              "  <style>\n",
              "    .colab-df-container {\n",
              "      display:flex;\n",
              "      flex-wrap:wrap;\n",
              "      gap: 12px;\n",
              "    }\n",
              "\n",
              "    .colab-df-convert {\n",
              "      background-color: #E8F0FE;\n",
              "      border: none;\n",
              "      border-radius: 50%;\n",
              "      cursor: pointer;\n",
              "      display: none;\n",
              "      fill: #1967D2;\n",
              "      height: 32px;\n",
              "      padding: 0 0 0 0;\n",
              "      width: 32px;\n",
              "    }\n",
              "\n",
              "    .colab-df-convert:hover {\n",
              "      background-color: #E2EBFA;\n",
              "      box-shadow: 0px 1px 2px rgba(60, 64, 67, 0.3), 0px 1px 3px 1px rgba(60, 64, 67, 0.15);\n",
              "      fill: #174EA6;\n",
              "    }\n",
              "\n",
              "    [theme=dark] .colab-df-convert {\n",
              "      background-color: #3B4455;\n",
              "      fill: #D2E3FC;\n",
              "    }\n",
              "\n",
              "    [theme=dark] .colab-df-convert:hover {\n",
              "      background-color: #434B5C;\n",
              "      box-shadow: 0px 1px 3px 1px rgba(0, 0, 0, 0.15);\n",
              "      filter: drop-shadow(0px 1px 2px rgba(0, 0, 0, 0.3));\n",
              "      fill: #FFFFFF;\n",
              "    }\n",
              "  </style>\n",
              "\n",
              "      <script>\n",
              "        const buttonEl =\n",
              "          document.querySelector('#df-03d87de6-7631-4250-abe6-37a7834d228c button.colab-df-convert');\n",
              "        buttonEl.style.display =\n",
              "          google.colab.kernel.accessAllowed ? 'block' : 'none';\n",
              "\n",
              "        async function convertToInteractive(key) {\n",
              "          const element = document.querySelector('#df-03d87de6-7631-4250-abe6-37a7834d228c');\n",
              "          const dataTable =\n",
              "            await google.colab.kernel.invokeFunction('convertToInteractive',\n",
              "                                                     [key], {});\n",
              "          if (!dataTable) return;\n",
              "\n",
              "          const docLinkHtml = 'Like what you see? Visit the ' +\n",
              "            '<a target=\"_blank\" href=https://colab.research.google.com/notebooks/data_table.ipynb>data table notebook</a>'\n",
              "            + ' to learn more about interactive tables.';\n",
              "          element.innerHTML = '';\n",
              "          dataTable['output_type'] = 'display_data';\n",
              "          await google.colab.output.renderOutput(dataTable, element);\n",
              "          const docLink = document.createElement('div');\n",
              "          docLink.innerHTML = docLinkHtml;\n",
              "          element.appendChild(docLink);\n",
              "        }\n",
              "      </script>\n",
              "    </div>\n",
              "  </div>\n",
              "  "
            ],
            "text/plain": [
              "            Date    Open    High  ...   Close  Total Trade Quantity  Turnover (Lacs)\n",
              "0     2019-01-04  210.60  214.90  ...  213.80             1213181.0          2583.05\n",
              "1     2019-01-03  214.95  215.35  ...  210.05             2096553.0          4433.50\n",
              "2     2019-01-02  219.00  220.35  ...  214.60             1081778.0          2340.31\n",
              "3     2019-01-01  219.95  221.05  ...  219.10              716275.0          1571.63\n",
              "4     2018-12-31  222.00  223.65  ...  219.40              965858.0          2131.09\n",
              "...          ...     ...     ...  ...     ...                   ...              ...\n",
              "2095  2010-07-27  117.60  119.50  ...  118.65              586100.0           694.98\n",
              "2096  2010-07-26  120.10  121.00  ...  117.60              658440.0           780.01\n",
              "2097  2010-07-23  121.80  121.95  ...  120.65              281312.0           340.31\n",
              "2098  2010-07-22  120.30  122.00  ...  120.90              293312.0           355.17\n",
              "2099  2010-07-21  122.10  123.00  ...  121.55              658666.0           803.56\n",
              "\n",
              "[2100 rows x 8 columns]"
            ]
          },
          "metadata": {},
          "execution_count": 96
        }
      ],
      "source": [
        "df"
      ]
    },
    {
      "cell_type": "markdown",
      "source": [
        "# **Checking whether null values are present**"
      ],
      "metadata": {
        "id": "Y8EB95g-v8tN"
      }
    },
    {
      "cell_type": "code",
      "execution_count": 97,
      "metadata": {
        "colab": {
          "base_uri": "https://localhost:8080/"
        },
        "id": "T3-xj6Ircqro",
        "outputId": "8773baa8-2dc3-4ca0-bf82-9c736caeac18"
      },
      "outputs": [
        {
          "output_type": "execute_result",
          "data": {
            "text/plain": [
              "Date                    0\n",
              "Open                    0\n",
              "High                    0\n",
              "Low                     0\n",
              "Last                    0\n",
              "Close                   0\n",
              "Total Trade Quantity    0\n",
              "Turnover (Lacs)         0\n",
              "dtype: int64"
            ]
          },
          "metadata": {},
          "execution_count": 97
        }
      ],
      "source": [
        "df.isnull().sum()"
      ]
    },
    {
      "cell_type": "markdown",
      "source": [
        "# **Displaying top 5 data**"
      ],
      "metadata": {
        "id": "9_YblRCzwMhR"
      }
    },
    {
      "cell_type": "code",
      "execution_count": 98,
      "metadata": {
        "colab": {
          "base_uri": "https://localhost:8080/",
          "height": 206
        },
        "id": "ob40w2jDX0op",
        "outputId": "a3a0260f-7143-4858-cdb0-6cc03f6b2ba5"
      },
      "outputs": [
        {
          "output_type": "execute_result",
          "data": {
            "text/html": [
              "\n",
              "  <div id=\"df-4a475809-2b88-497a-ae5f-9883a67a6c4f\">\n",
              "    <div class=\"colab-df-container\">\n",
              "      <div>\n",
              "<style scoped>\n",
              "    .dataframe tbody tr th:only-of-type {\n",
              "        vertical-align: middle;\n",
              "    }\n",
              "\n",
              "    .dataframe tbody tr th {\n",
              "        vertical-align: top;\n",
              "    }\n",
              "\n",
              "    .dataframe thead th {\n",
              "        text-align: right;\n",
              "    }\n",
              "</style>\n",
              "<table border=\"1\" class=\"dataframe\">\n",
              "  <thead>\n",
              "    <tr style=\"text-align: right;\">\n",
              "      <th></th>\n",
              "      <th>Date</th>\n",
              "      <th>Open</th>\n",
              "      <th>High</th>\n",
              "      <th>Low</th>\n",
              "      <th>Last</th>\n",
              "      <th>Close</th>\n",
              "      <th>Total Trade Quantity</th>\n",
              "      <th>Turnover (Lacs)</th>\n",
              "    </tr>\n",
              "  </thead>\n",
              "  <tbody>\n",
              "    <tr>\n",
              "      <th>0</th>\n",
              "      <td>2019-01-04</td>\n",
              "      <td>210.60</td>\n",
              "      <td>214.90</td>\n",
              "      <td>210.00</td>\n",
              "      <td>213.50</td>\n",
              "      <td>213.80</td>\n",
              "      <td>1213181.0</td>\n",
              "      <td>2583.05</td>\n",
              "    </tr>\n",
              "    <tr>\n",
              "      <th>1</th>\n",
              "      <td>2019-01-03</td>\n",
              "      <td>214.95</td>\n",
              "      <td>215.35</td>\n",
              "      <td>209.90</td>\n",
              "      <td>210.55</td>\n",
              "      <td>210.05</td>\n",
              "      <td>2096553.0</td>\n",
              "      <td>4433.50</td>\n",
              "    </tr>\n",
              "    <tr>\n",
              "      <th>2</th>\n",
              "      <td>2019-01-02</td>\n",
              "      <td>219.00</td>\n",
              "      <td>220.35</td>\n",
              "      <td>213.60</td>\n",
              "      <td>214.20</td>\n",
              "      <td>214.60</td>\n",
              "      <td>1081778.0</td>\n",
              "      <td>2340.31</td>\n",
              "    </tr>\n",
              "    <tr>\n",
              "      <th>3</th>\n",
              "      <td>2019-01-01</td>\n",
              "      <td>219.95</td>\n",
              "      <td>221.05</td>\n",
              "      <td>218.05</td>\n",
              "      <td>218.95</td>\n",
              "      <td>219.10</td>\n",
              "      <td>716275.0</td>\n",
              "      <td>1571.63</td>\n",
              "    </tr>\n",
              "    <tr>\n",
              "      <th>4</th>\n",
              "      <td>2018-12-31</td>\n",
              "      <td>222.00</td>\n",
              "      <td>223.65</td>\n",
              "      <td>218.85</td>\n",
              "      <td>219.55</td>\n",
              "      <td>219.40</td>\n",
              "      <td>965858.0</td>\n",
              "      <td>2131.09</td>\n",
              "    </tr>\n",
              "  </tbody>\n",
              "</table>\n",
              "</div>\n",
              "      <button class=\"colab-df-convert\" onclick=\"convertToInteractive('df-4a475809-2b88-497a-ae5f-9883a67a6c4f')\"\n",
              "              title=\"Convert this dataframe to an interactive table.\"\n",
              "              style=\"display:none;\">\n",
              "        \n",
              "  <svg xmlns=\"http://www.w3.org/2000/svg\" height=\"24px\"viewBox=\"0 0 24 24\"\n",
              "       width=\"24px\">\n",
              "    <path d=\"M0 0h24v24H0V0z\" fill=\"none\"/>\n",
              "    <path d=\"M18.56 5.44l.94 2.06.94-2.06 2.06-.94-2.06-.94-.94-2.06-.94 2.06-2.06.94zm-11 1L8.5 8.5l.94-2.06 2.06-.94-2.06-.94L8.5 2.5l-.94 2.06-2.06.94zm10 10l.94 2.06.94-2.06 2.06-.94-2.06-.94-.94-2.06-.94 2.06-2.06.94z\"/><path d=\"M17.41 7.96l-1.37-1.37c-.4-.4-.92-.59-1.43-.59-.52 0-1.04.2-1.43.59L10.3 9.45l-7.72 7.72c-.78.78-.78 2.05 0 2.83L4 21.41c.39.39.9.59 1.41.59.51 0 1.02-.2 1.41-.59l7.78-7.78 2.81-2.81c.8-.78.8-2.07 0-2.86zM5.41 20L4 18.59l7.72-7.72 1.47 1.35L5.41 20z\"/>\n",
              "  </svg>\n",
              "      </button>\n",
              "      \n",
              "  <style>\n",
              "    .colab-df-container {\n",
              "      display:flex;\n",
              "      flex-wrap:wrap;\n",
              "      gap: 12px;\n",
              "    }\n",
              "\n",
              "    .colab-df-convert {\n",
              "      background-color: #E8F0FE;\n",
              "      border: none;\n",
              "      border-radius: 50%;\n",
              "      cursor: pointer;\n",
              "      display: none;\n",
              "      fill: #1967D2;\n",
              "      height: 32px;\n",
              "      padding: 0 0 0 0;\n",
              "      width: 32px;\n",
              "    }\n",
              "\n",
              "    .colab-df-convert:hover {\n",
              "      background-color: #E2EBFA;\n",
              "      box-shadow: 0px 1px 2px rgba(60, 64, 67, 0.3), 0px 1px 3px 1px rgba(60, 64, 67, 0.15);\n",
              "      fill: #174EA6;\n",
              "    }\n",
              "\n",
              "    [theme=dark] .colab-df-convert {\n",
              "      background-color: #3B4455;\n",
              "      fill: #D2E3FC;\n",
              "    }\n",
              "\n",
              "    [theme=dark] .colab-df-convert:hover {\n",
              "      background-color: #434B5C;\n",
              "      box-shadow: 0px 1px 3px 1px rgba(0, 0, 0, 0.15);\n",
              "      filter: drop-shadow(0px 1px 2px rgba(0, 0, 0, 0.3));\n",
              "      fill: #FFFFFF;\n",
              "    }\n",
              "  </style>\n",
              "\n",
              "      <script>\n",
              "        const buttonEl =\n",
              "          document.querySelector('#df-4a475809-2b88-497a-ae5f-9883a67a6c4f button.colab-df-convert');\n",
              "        buttonEl.style.display =\n",
              "          google.colab.kernel.accessAllowed ? 'block' : 'none';\n",
              "\n",
              "        async function convertToInteractive(key) {\n",
              "          const element = document.querySelector('#df-4a475809-2b88-497a-ae5f-9883a67a6c4f');\n",
              "          const dataTable =\n",
              "            await google.colab.kernel.invokeFunction('convertToInteractive',\n",
              "                                                     [key], {});\n",
              "          if (!dataTable) return;\n",
              "\n",
              "          const docLinkHtml = 'Like what you see? Visit the ' +\n",
              "            '<a target=\"_blank\" href=https://colab.research.google.com/notebooks/data_table.ipynb>data table notebook</a>'\n",
              "            + ' to learn more about interactive tables.';\n",
              "          element.innerHTML = '';\n",
              "          dataTable['output_type'] = 'display_data';\n",
              "          await google.colab.output.renderOutput(dataTable, element);\n",
              "          const docLink = document.createElement('div');\n",
              "          docLink.innerHTML = docLinkHtml;\n",
              "          element.appendChild(docLink);\n",
              "        }\n",
              "      </script>\n",
              "    </div>\n",
              "  </div>\n",
              "  "
            ],
            "text/plain": [
              "         Date    Open    High  ...   Close  Total Trade Quantity  Turnover (Lacs)\n",
              "0  2019-01-04  210.60  214.90  ...  213.80             1213181.0          2583.05\n",
              "1  2019-01-03  214.95  215.35  ...  210.05             2096553.0          4433.50\n",
              "2  2019-01-02  219.00  220.35  ...  214.60             1081778.0          2340.31\n",
              "3  2019-01-01  219.95  221.05  ...  219.10              716275.0          1571.63\n",
              "4  2018-12-31  222.00  223.65  ...  219.40              965858.0          2131.09\n",
              "\n",
              "[5 rows x 8 columns]"
            ]
          },
          "metadata": {},
          "execution_count": 98
        }
      ],
      "source": [
        "df.head()"
      ]
    },
    {
      "cell_type": "markdown",
      "source": [
        "# **Reset the index of closing price**"
      ],
      "metadata": {
        "id": "aoZ0lQ8GwYmB"
      }
    },
    {
      "cell_type": "code",
      "execution_count": 99,
      "metadata": {
        "id": "3T6mq94TX4oY"
      },
      "outputs": [],
      "source": [
        "df2=df.iloc[::-1].reset_index()['Close']"
      ]
    },
    {
      "cell_type": "code",
      "execution_count": 100,
      "metadata": {
        "colab": {
          "base_uri": "https://localhost:8080/",
          "height": 238
        },
        "id": "NXfOOGH3YYtw",
        "outputId": "26d3ee39-efd6-4028-f892-a57c2e3de5e3"
      },
      "outputs": [
        {
          "output_type": "execute_result",
          "data": {
            "text/html": [
              "\n",
              "  <div id=\"df-929a5c3e-0bfe-48eb-9bf6-7a03025e8571\">\n",
              "    <div class=\"colab-df-container\">\n",
              "      <div>\n",
              "<style scoped>\n",
              "    .dataframe tbody tr th:only-of-type {\n",
              "        vertical-align: middle;\n",
              "    }\n",
              "\n",
              "    .dataframe tbody tr th {\n",
              "        vertical-align: top;\n",
              "    }\n",
              "\n",
              "    .dataframe thead th {\n",
              "        text-align: right;\n",
              "    }\n",
              "</style>\n",
              "<table border=\"1\" class=\"dataframe\">\n",
              "  <thead>\n",
              "    <tr style=\"text-align: right;\">\n",
              "      <th></th>\n",
              "      <th>Date</th>\n",
              "      <th>Open</th>\n",
              "      <th>High</th>\n",
              "      <th>Low</th>\n",
              "      <th>Last</th>\n",
              "      <th>Close</th>\n",
              "      <th>Total Trade Quantity</th>\n",
              "      <th>Turnover (Lacs)</th>\n",
              "    </tr>\n",
              "    <tr>\n",
              "      <th>Date</th>\n",
              "      <th></th>\n",
              "      <th></th>\n",
              "      <th></th>\n",
              "      <th></th>\n",
              "      <th></th>\n",
              "      <th></th>\n",
              "      <th></th>\n",
              "      <th></th>\n",
              "    </tr>\n",
              "  </thead>\n",
              "  <tbody>\n",
              "    <tr>\n",
              "      <th>2019-01-04</th>\n",
              "      <td>2019-01-04</td>\n",
              "      <td>210.60</td>\n",
              "      <td>214.90</td>\n",
              "      <td>210.00</td>\n",
              "      <td>213.50</td>\n",
              "      <td>213.80</td>\n",
              "      <td>1213181.0</td>\n",
              "      <td>2583.05</td>\n",
              "    </tr>\n",
              "    <tr>\n",
              "      <th>2019-01-03</th>\n",
              "      <td>2019-01-03</td>\n",
              "      <td>214.95</td>\n",
              "      <td>215.35</td>\n",
              "      <td>209.90</td>\n",
              "      <td>210.55</td>\n",
              "      <td>210.05</td>\n",
              "      <td>2096553.0</td>\n",
              "      <td>4433.50</td>\n",
              "    </tr>\n",
              "    <tr>\n",
              "      <th>2019-01-02</th>\n",
              "      <td>2019-01-02</td>\n",
              "      <td>219.00</td>\n",
              "      <td>220.35</td>\n",
              "      <td>213.60</td>\n",
              "      <td>214.20</td>\n",
              "      <td>214.60</td>\n",
              "      <td>1081778.0</td>\n",
              "      <td>2340.31</td>\n",
              "    </tr>\n",
              "    <tr>\n",
              "      <th>2019-01-01</th>\n",
              "      <td>2019-01-01</td>\n",
              "      <td>219.95</td>\n",
              "      <td>221.05</td>\n",
              "      <td>218.05</td>\n",
              "      <td>218.95</td>\n",
              "      <td>219.10</td>\n",
              "      <td>716275.0</td>\n",
              "      <td>1571.63</td>\n",
              "    </tr>\n",
              "    <tr>\n",
              "      <th>2018-12-31</th>\n",
              "      <td>2018-12-31</td>\n",
              "      <td>222.00</td>\n",
              "      <td>223.65</td>\n",
              "      <td>218.85</td>\n",
              "      <td>219.55</td>\n",
              "      <td>219.40</td>\n",
              "      <td>965858.0</td>\n",
              "      <td>2131.09</td>\n",
              "    </tr>\n",
              "  </tbody>\n",
              "</table>\n",
              "</div>\n",
              "      <button class=\"colab-df-convert\" onclick=\"convertToInteractive('df-929a5c3e-0bfe-48eb-9bf6-7a03025e8571')\"\n",
              "              title=\"Convert this dataframe to an interactive table.\"\n",
              "              style=\"display:none;\">\n",
              "        \n",
              "  <svg xmlns=\"http://www.w3.org/2000/svg\" height=\"24px\"viewBox=\"0 0 24 24\"\n",
              "       width=\"24px\">\n",
              "    <path d=\"M0 0h24v24H0V0z\" fill=\"none\"/>\n",
              "    <path d=\"M18.56 5.44l.94 2.06.94-2.06 2.06-.94-2.06-.94-.94-2.06-.94 2.06-2.06.94zm-11 1L8.5 8.5l.94-2.06 2.06-.94-2.06-.94L8.5 2.5l-.94 2.06-2.06.94zm10 10l.94 2.06.94-2.06 2.06-.94-2.06-.94-.94-2.06-.94 2.06-2.06.94z\"/><path d=\"M17.41 7.96l-1.37-1.37c-.4-.4-.92-.59-1.43-.59-.52 0-1.04.2-1.43.59L10.3 9.45l-7.72 7.72c-.78.78-.78 2.05 0 2.83L4 21.41c.39.39.9.59 1.41.59.51 0 1.02-.2 1.41-.59l7.78-7.78 2.81-2.81c.8-.78.8-2.07 0-2.86zM5.41 20L4 18.59l7.72-7.72 1.47 1.35L5.41 20z\"/>\n",
              "  </svg>\n",
              "      </button>\n",
              "      \n",
              "  <style>\n",
              "    .colab-df-container {\n",
              "      display:flex;\n",
              "      flex-wrap:wrap;\n",
              "      gap: 12px;\n",
              "    }\n",
              "\n",
              "    .colab-df-convert {\n",
              "      background-color: #E8F0FE;\n",
              "      border: none;\n",
              "      border-radius: 50%;\n",
              "      cursor: pointer;\n",
              "      display: none;\n",
              "      fill: #1967D2;\n",
              "      height: 32px;\n",
              "      padding: 0 0 0 0;\n",
              "      width: 32px;\n",
              "    }\n",
              "\n",
              "    .colab-df-convert:hover {\n",
              "      background-color: #E2EBFA;\n",
              "      box-shadow: 0px 1px 2px rgba(60, 64, 67, 0.3), 0px 1px 3px 1px rgba(60, 64, 67, 0.15);\n",
              "      fill: #174EA6;\n",
              "    }\n",
              "\n",
              "    [theme=dark] .colab-df-convert {\n",
              "      background-color: #3B4455;\n",
              "      fill: #D2E3FC;\n",
              "    }\n",
              "\n",
              "    [theme=dark] .colab-df-convert:hover {\n",
              "      background-color: #434B5C;\n",
              "      box-shadow: 0px 1px 3px 1px rgba(0, 0, 0, 0.15);\n",
              "      filter: drop-shadow(0px 1px 2px rgba(0, 0, 0, 0.3));\n",
              "      fill: #FFFFFF;\n",
              "    }\n",
              "  </style>\n",
              "\n",
              "      <script>\n",
              "        const buttonEl =\n",
              "          document.querySelector('#df-929a5c3e-0bfe-48eb-9bf6-7a03025e8571 button.colab-df-convert');\n",
              "        buttonEl.style.display =\n",
              "          google.colab.kernel.accessAllowed ? 'block' : 'none';\n",
              "\n",
              "        async function convertToInteractive(key) {\n",
              "          const element = document.querySelector('#df-929a5c3e-0bfe-48eb-9bf6-7a03025e8571');\n",
              "          const dataTable =\n",
              "            await google.colab.kernel.invokeFunction('convertToInteractive',\n",
              "                                                     [key], {});\n",
              "          if (!dataTable) return;\n",
              "\n",
              "          const docLinkHtml = 'Like what you see? Visit the ' +\n",
              "            '<a target=\"_blank\" href=https://colab.research.google.com/notebooks/data_table.ipynb>data table notebook</a>'\n",
              "            + ' to learn more about interactive tables.';\n",
              "          element.innerHTML = '';\n",
              "          dataTable['output_type'] = 'display_data';\n",
              "          await google.colab.output.renderOutput(dataTable, element);\n",
              "          const docLink = document.createElement('div');\n",
              "          docLink.innerHTML = docLinkHtml;\n",
              "          element.appendChild(docLink);\n",
              "        }\n",
              "      </script>\n",
              "    </div>\n",
              "  </div>\n",
              "  "
            ],
            "text/plain": [
              "                 Date    Open  ...  Total Trade Quantity  Turnover (Lacs)\n",
              "Date                           ...                                       \n",
              "2019-01-04 2019-01-04  210.60  ...             1213181.0          2583.05\n",
              "2019-01-03 2019-01-03  214.95  ...             2096553.0          4433.50\n",
              "2019-01-02 2019-01-02  219.00  ...             1081778.0          2340.31\n",
              "2019-01-01 2019-01-01  219.95  ...              716275.0          1571.63\n",
              "2018-12-31 2018-12-31  222.00  ...              965858.0          2131.09\n",
              "\n",
              "[5 rows x 8 columns]"
            ]
          },
          "metadata": {},
          "execution_count": 100
        }
      ],
      "source": [
        "df['Date'] = pd.to_datetime(df.Date,format='%Y-%m-%d')\n",
        "df.index = df['Date']\n",
        "df.head()"
      ]
    },
    {
      "cell_type": "markdown",
      "source": [
        "# **Ploting the closing price**"
      ],
      "metadata": {
        "id": "dhYcfUnrw3GI"
      }
    },
    {
      "cell_type": "code",
      "execution_count": 101,
      "metadata": {
        "colab": {
          "base_uri": "https://localhost:8080/",
          "height": 500
        },
        "id": "eQl_luj1YoJX",
        "outputId": "36bb4324-304f-4f00-afbe-521d52a57533"
      },
      "outputs": [
        {
          "output_type": "execute_result",
          "data": {
            "text/plain": [
              "[<matplotlib.lines.Line2D at 0x7f34bda41dd0>]"
            ]
          },
          "metadata": {},
          "execution_count": 101
        },
        {
          "output_type": "display_data",
          "data": {
            "image/png": "[encoded data removed]",
            "text/plain": [
              "<Figure size 1152x576 with 1 Axes>"
            ]
          },
          "metadata": {
            "needs_background": "light"
          }
        }
      ],
      "source": [
        "#plot\n",
        "plt.figure(figsize=(16,8))\n",
        "plt.plot(df['Close'], label='Close Price history')"
      ]
    },
    {
      "cell_type": "markdown",
      "source": [
        "# **importing and intializing minmaxscalar**"
      ],
      "metadata": {
        "id": "c5WI4ydh_xip"
      }
    },
    {
      "cell_type": "code",
      "execution_count": 102,
      "metadata": {
        "id": "tetf_nyFY22q"
      },
      "outputs": [],
      "source": [
        "from sklearn.preprocessing import MinMaxScaler"
      ]
    },
    {
      "cell_type": "code",
      "execution_count": 103,
      "metadata": {
        "id": "_2tV2rMAagic"
      },
      "outputs": [],
      "source": [
        "scaler=MinMaxScaler(feature_range=(0,1))\n",
        "df2=scaler.fit_transform(np.array(df2).reshape(-1,1))"
      ]
    },
    {
      "cell_type": "code",
      "execution_count": 104,
      "metadata": {
        "colab": {
          "base_uri": "https://localhost:8080/"
        },
        "id": "rCVAiH5Va1oa",
        "outputId": "20988f56-7fff-4375-d1b5-1b31ef25e32e"
      },
      "outputs": [
        {
          "output_type": "execute_result",
          "data": {
            "text/plain": [
              "(2100, 1)"
            ]
          },
          "metadata": {},
          "execution_count": 104
        }
      ],
      "source": [
        "df2.shape"
      ]
    },
    {
      "cell_type": "code",
      "execution_count": 105,
      "metadata": {
        "colab": {
          "base_uri": "https://localhost:8080/"
        },
        "id": "uqkBcZN-a3wj",
        "outputId": "936d0e53-04c0-4256-b4a4-169427226eb4"
      },
      "outputs": [
        {
          "output_type": "execute_result",
          "data": {
            "text/plain": [
              "array([[0.16584967],\n",
              "       [0.16319444],\n",
              "       [0.1621732 ],\n",
              "       ...,\n",
              "       [0.54595588],\n",
              "       [0.52736928],\n",
              "       [0.54268791]])"
            ]
          },
          "metadata": {},
          "execution_count": 105
        }
      ],
      "source": [
        "df2"
      ]
    },
    {
      "cell_type": "markdown",
      "source": [
        "# **Splitting data to train and test data sets**"
      ],
      "metadata": {
        "id": "DA-B4IM4AKCb"
      }
    },
    {
      "cell_type": "code",
      "execution_count": 106,
      "metadata": {
        "id": "INJOE3Kva9Py"
      },
      "outputs": [],
      "source": [
        "train_size=int(len(df2)*0.70)\n",
        "test_size=len(df2)-train_size\n",
        "train_data,test_data = df2[0:train_size,:],df2[train_size:len(df2),:1]"
      ]
    },
    {
      "cell_type": "code",
      "execution_count": 107,
      "metadata": {
        "colab": {
          "base_uri": "https://localhost:8080/"
        },
        "id": "E1knV0G1cMV5",
        "outputId": "b81ede7f-da1e-4970-991e-52d890c502ff"
      },
      "outputs": [
        {
          "output_type": "execute_result",
          "data": {
            "text/plain": [
              "(1470, 630)"
            ]
          },
          "metadata": {},
          "execution_count": 107
        }
      ],
      "source": [
        "train_size,test_size"
      ]
    },
    {
      "cell_type": "code",
      "execution_count": 108,
      "metadata": {
        "id": "DInzaaqXcZdU"
      },
      "outputs": [],
      "source": [
        "def create_dataset(dataset,time_step=1):\n",
        "  dataX,dataY = [],[]\n",
        "  for i in range(len(dataset)-time_step-1):\n",
        "    a = dataset[i:(i+time_step),0]\n",
        "    dataX.append(a)\n",
        "    dataY.append(dataset[i+time_step,0])\n",
        "  return np.array(dataX), np.array(dataY)"
      ]
    },
    {
      "cell_type": "code",
      "execution_count": 109,
      "metadata": {
        "id": "B8a9YjXYr-iY"
      },
      "outputs": [],
      "source": [
        "time_step = 100\n",
        "X_train,Y_train = create_dataset(train_data,time_step)\n",
        "X_test, ytest = create_dataset(test_data,time_step)"
      ]
    },
    {
      "cell_type": "code",
      "execution_count": 110,
      "metadata": {
        "colab": {
          "base_uri": "https://localhost:8080/"
        },
        "id": "q_aejhf1siUO",
        "outputId": "3bd19038-ae28-4d83-daf0-26b4f9df1483"
      },
      "outputs": [
        {
          "output_type": "stream",
          "name": "stdout",
          "text": [
            "[[0.16584967 0.16319444 0.1621732  ... 0.14011438 0.13848039 0.12479575]\n",
            " [0.16319444 0.1621732  0.14971405 ... 0.13848039 0.12479575 0.12254902]\n",
            " [0.1621732  0.14971405 0.15400327 ... 0.12479575 0.12254902 0.13010621]\n",
            " ...\n",
            " [0.16707516 0.18566176 0.16993464 ... 0.1744281  0.19281046 0.18607026]\n",
            " [0.18566176 0.16993464 0.16666667 ... 0.19281046 0.18607026 0.18811275]\n",
            " [0.16993464 0.16666667 0.18218954 ... 0.18607026 0.18811275 0.18443627]]\n"
          ]
        }
      ],
      "source": [
        "print(X_train)"
      ]
    },
    {
      "cell_type": "code",
      "execution_count": 111,
      "metadata": {
        "colab": {
          "base_uri": "https://localhost:8080/"
        },
        "id": "QAoVBmeDtGV6",
        "outputId": "6a657987-ff49-45f0-cf11-d014b0b32f1e"
      },
      "outputs": [
        {
          "output_type": "stream",
          "name": "stdout",
          "text": [
            "(529, 100) (529,)\n"
          ]
        }
      ],
      "source": [
        "print(X_test.shape,ytest.shape)"
      ]
    },
    {
      "cell_type": "code",
      "execution_count": 112,
      "metadata": {
        "id": "EwU_4fpSdQ4u"
      },
      "outputs": [],
      "source": [
        "X_train = X_train.reshape(X_train.shape[0],X_train.shape[1],1)\n",
        "X_test = X_test.reshape(X_test.shape[0],X_test.shape[1],1)"
      ]
    },
    {
      "cell_type": "markdown",
      "source": [
        "# **Creating a LSTM model**"
      ],
      "metadata": {
        "id": "z9goZtWBAl-m"
      }
    },
    {
      "cell_type": "code",
      "execution_count": 113,
      "metadata": {
        "id": "zkB-SRnVdvqO"
      },
      "outputs": [],
      "source": [
        "from tensorflow.keras.models import Sequential\n",
        "from tensorflow.keras.layers import Dense\n",
        "from tensorflow.keras.layers import LSTM"
      ]
    },
    {
      "cell_type": "code",
      "execution_count": 114,
      "metadata": {
        "id": "KkvrMp_fePEp"
      },
      "outputs": [],
      "source": [
        "model = Sequential()\n",
        "model.add(LSTM(50,return_sequences=True,input_shape=(100,1)))\n",
        "model.add(LSTM(50,return_sequences=True))\n",
        "model.add(LSTM(50))\n",
        "model.add(Dense(1))\n",
        "model.compile(loss='mean_squared_error',optimizer='adam')"
      ]
    },
    {
      "cell_type": "code",
      "execution_count": 115,
      "metadata": {
        "colab": {
          "base_uri": "https://localhost:8080/"
        },
        "id": "G8EvinZKfM_5",
        "outputId": "c0eb58d1-d093-47d9-a6d1-2f292afcfbae"
      },
      "outputs": [
        {
          "output_type": "stream",
          "name": "stdout",
          "text": [
            "Model: \"sequential_4\"\n",
            "_________________________________________________________________\n",
            " Layer (type)                Output Shape              Param #   \n",
            "=================================================================\n",
            " lstm_12 (LSTM)              (None, 100, 50)           10400     \n",
            "                                                                 \n",
            " lstm_13 (LSTM)              (None, 100, 50)           20200     \n",
            "                                                                 \n",
            " lstm_14 (LSTM)              (None, 50)                20200     \n",
            "                                                                 \n",
            " dense_4 (Dense)             (None, 1)                 51        \n",
            "                                                                 \n",
            "=================================================================\n",
            "Total params: 50,851\n",
            "Trainable params: 50,851\n",
            "Non-trainable params: 0\n",
            "_________________________________________________________________\n"
          ]
        }
      ],
      "source": [
        "model.summary()"
      ]
    },
    {
      "cell_type": "markdown",
      "source": [
        "# **Training the model**"
      ],
      "metadata": {
        "id": "IkphiW24AyTe"
      }
    },
    {
      "cell_type": "code",
      "execution_count": 116,
      "metadata": {
        "colab": {
          "base_uri": "https://localhost:8080/"
        },
        "id": "D7ticgW4fQUz",
        "outputId": "84d7b3dd-5781-4052-d9bd-83455ae5bdc0"
      },
      "outputs": [
        {
          "output_type": "stream",
          "name": "stdout",
          "text": [
            "Epoch 1/100\n",
            "22/22 [==============================] - 11s 260ms/step - loss: 0.0134 - val_loss: 0.0436\n",
            "Epoch 2/100\n",
            "22/22 [==============================] - 4s 199ms/step - loss: 0.0021 - val_loss: 0.0032\n",
            "Epoch 3/100\n",
            "22/22 [==============================] - 4s 200ms/step - loss: 0.0010 - val_loss: 0.0051\n",
            "Epoch 4/100\n",
            "22/22 [==============================] - 4s 198ms/step - loss: 8.4754e-04 - val_loss: 0.0041\n",
            "Epoch 5/100\n",
            "22/22 [==============================] - 4s 198ms/step - loss: 8.1451e-04 - val_loss: 0.0039\n",
            "Epoch 6/100\n",
            "22/22 [==============================] - 4s 197ms/step - loss: 7.7577e-04 - val_loss: 0.0036\n",
            "Epoch 7/100\n",
            "22/22 [==============================] - 4s 196ms/step - loss: 7.5244e-04 - val_loss: 0.0041\n",
            "Epoch 8/100\n",
            "22/22 [==============================] - 4s 195ms/step - loss: 7.4679e-04 - val_loss: 0.0032\n",
            "Epoch 9/100\n",
            "22/22 [==============================] - 4s 198ms/step - loss: 7.0984e-04 - val_loss: 0.0030\n",
            "Epoch 10/100\n",
            "22/22 [==============================] - 4s 200ms/step - loss: 6.8750e-04 - val_loss: 0.0035\n",
            "Epoch 11/100\n",
            "22/22 [==============================] - 4s 197ms/step - loss: 6.5104e-04 - val_loss: 0.0034\n",
            "Epoch 12/100\n",
            "22/22 [==============================] - 4s 197ms/step - loss: 6.2276e-04 - val_loss: 0.0033\n",
            "Epoch 13/100\n",
            "22/22 [==============================] - 4s 197ms/step - loss: 6.2647e-04 - val_loss: 0.0043\n",
            "Epoch 14/100\n",
            "22/22 [==============================] - 4s 198ms/step - loss: 5.8417e-04 - val_loss: 0.0041\n",
            "Epoch 15/100\n",
            "22/22 [==============================] - 4s 198ms/step - loss: 5.8240e-04 - val_loss: 0.0041\n",
            "Epoch 16/100\n",
            "22/22 [==============================] - 4s 198ms/step - loss: 5.9950e-04 - val_loss: 0.0032\n",
            "Epoch 17/100\n",
            "22/22 [==============================] - 4s 198ms/step - loss: 5.7231e-04 - val_loss: 0.0054\n",
            "Epoch 18/100\n",
            "22/22 [==============================] - 4s 196ms/step - loss: 5.1489e-04 - val_loss: 0.0043\n",
            "Epoch 19/100\n",
            "22/22 [==============================] - 4s 203ms/step - loss: 5.0127e-04 - val_loss: 0.0067\n",
            "Epoch 20/100\n",
            "22/22 [==============================] - 4s 203ms/step - loss: 4.8590e-04 - val_loss: 0.0045\n",
            "Epoch 21/100\n",
            "22/22 [==============================] - 4s 203ms/step - loss: 4.8740e-04 - val_loss: 0.0059\n",
            "Epoch 22/100\n",
            "22/22 [==============================] - 4s 201ms/step - loss: 4.8295e-04 - val_loss: 0.0079\n",
            "Epoch 23/100\n",
            "22/22 [==============================] - 4s 199ms/step - loss: 4.9526e-04 - val_loss: 0.0037\n",
            "Epoch 24/100\n",
            "22/22 [==============================] - 4s 202ms/step - loss: 4.5125e-04 - val_loss: 0.0056\n",
            "Epoch 25/100\n",
            "22/22 [==============================] - 4s 198ms/step - loss: 4.2229e-04 - val_loss: 0.0047\n",
            "Epoch 26/100\n",
            "22/22 [==============================] - 4s 203ms/step - loss: 4.0867e-04 - val_loss: 0.0045\n",
            "Epoch 27/100\n",
            "22/22 [==============================] - 4s 204ms/step - loss: 4.0595e-04 - val_loss: 0.0071\n",
            "Epoch 28/100\n",
            "22/22 [==============================] - 4s 201ms/step - loss: 4.0263e-04 - val_loss: 0.0035\n",
            "Epoch 29/100\n",
            "22/22 [==============================] - 4s 201ms/step - loss: 3.8043e-04 - val_loss: 0.0029\n",
            "Epoch 30/100\n",
            "22/22 [==============================] - 4s 200ms/step - loss: 3.5641e-04 - val_loss: 0.0035\n",
            "Epoch 31/100\n",
            "22/22 [==============================] - 4s 199ms/step - loss: 3.4278e-04 - val_loss: 0.0043\n",
            "Epoch 32/100\n",
            "22/22 [==============================] - 4s 199ms/step - loss: 3.4445e-04 - val_loss: 0.0059\n",
            "Epoch 33/100\n",
            "22/22 [==============================] - 4s 200ms/step - loss: 3.7091e-04 - val_loss: 0.0029\n",
            "Epoch 34/100\n",
            "22/22 [==============================] - 4s 197ms/step - loss: 3.1155e-04 - val_loss: 0.0039\n",
            "Epoch 35/100\n",
            "22/22 [==============================] - 4s 198ms/step - loss: 3.2336e-04 - val_loss: 0.0036\n",
            "Epoch 36/100\n",
            "22/22 [==============================] - 4s 197ms/step - loss: 2.9639e-04 - val_loss: 0.0027\n",
            "Epoch 37/100\n",
            "22/22 [==============================] - 4s 198ms/step - loss: 2.7836e-04 - val_loss: 0.0020\n",
            "Epoch 38/100\n",
            "22/22 [==============================] - 4s 199ms/step - loss: 2.6676e-04 - val_loss: 0.0027\n",
            "Epoch 39/100\n",
            "22/22 [==============================] - 4s 201ms/step - loss: 2.6988e-04 - val_loss: 0.0010\n",
            "Epoch 40/100\n",
            "22/22 [==============================] - 4s 198ms/step - loss: 2.6479e-04 - val_loss: 0.0017\n",
            "Epoch 41/100\n",
            "22/22 [==============================] - 4s 199ms/step - loss: 2.5870e-04 - val_loss: 0.0019\n",
            "Epoch 42/100\n",
            "22/22 [==============================] - 4s 198ms/step - loss: 2.4541e-04 - val_loss: 0.0022\n",
            "Epoch 43/100\n",
            "22/22 [==============================] - 4s 200ms/step - loss: 2.8057e-04 - val_loss: 0.0017\n",
            "Epoch 44/100\n",
            "22/22 [==============================] - 4s 198ms/step - loss: 2.3880e-04 - val_loss: 0.0027\n",
            "Epoch 45/100\n",
            "22/22 [==============================] - 4s 199ms/step - loss: 2.2787e-04 - val_loss: 0.0019\n",
            "Epoch 46/100\n",
            "22/22 [==============================] - 4s 200ms/step - loss: 2.3688e-04 - val_loss: 0.0013\n",
            "Epoch 47/100\n",
            "22/22 [==============================] - 4s 200ms/step - loss: 2.1290e-04 - val_loss: 0.0016\n",
            "Epoch 48/100\n",
            "22/22 [==============================] - 4s 200ms/step - loss: 2.2081e-04 - val_loss: 0.0018\n",
            "Epoch 49/100\n",
            "22/22 [==============================] - 4s 199ms/step - loss: 2.1333e-04 - val_loss: 8.6282e-04\n",
            "Epoch 50/100\n",
            "22/22 [==============================] - 4s 199ms/step - loss: 1.9489e-04 - val_loss: 0.0017\n",
            "Epoch 51/100\n",
            "22/22 [==============================] - 4s 201ms/step - loss: 2.0212e-04 - val_loss: 0.0012\n",
            "Epoch 52/100\n",
            "22/22 [==============================] - 4s 199ms/step - loss: 2.1889e-04 - val_loss: 0.0013\n",
            "Epoch 53/100\n",
            "22/22 [==============================] - 4s 195ms/step - loss: 1.8553e-04 - val_loss: 9.6128e-04\n",
            "Epoch 54/100\n",
            "22/22 [==============================] - 4s 199ms/step - loss: 1.9036e-04 - val_loss: 0.0014\n",
            "Epoch 55/100\n",
            "22/22 [==============================] - 4s 198ms/step - loss: 1.7615e-04 - val_loss: 0.0021\n",
            "Epoch 56/100\n",
            "22/22 [==============================] - 4s 199ms/step - loss: 1.9053e-04 - val_loss: 0.0025\n",
            "Epoch 57/100\n",
            "22/22 [==============================] - 4s 201ms/step - loss: 1.7854e-04 - val_loss: 8.5771e-04\n",
            "Epoch 58/100\n",
            "22/22 [==============================] - 4s 199ms/step - loss: 1.8749e-04 - val_loss: 6.9101e-04\n",
            "Epoch 59/100\n",
            "22/22 [==============================] - 4s 199ms/step - loss: 2.1016e-04 - val_loss: 0.0013\n",
            "Epoch 60/100\n",
            "22/22 [==============================] - 4s 197ms/step - loss: 1.7433e-04 - val_loss: 9.1173e-04\n",
            "Epoch 61/100\n",
            "22/22 [==============================] - 4s 199ms/step - loss: 1.7078e-04 - val_loss: 0.0016\n",
            "Epoch 62/100\n",
            "22/22 [==============================] - 4s 200ms/step - loss: 1.7148e-04 - val_loss: 0.0016\n",
            "Epoch 63/100\n",
            "22/22 [==============================] - 4s 198ms/step - loss: 1.5669e-04 - val_loss: 0.0017\n",
            "Epoch 64/100\n",
            "22/22 [==============================] - 4s 198ms/step - loss: 1.6430e-04 - val_loss: 0.0013\n",
            "Epoch 65/100\n",
            "22/22 [==============================] - 4s 199ms/step - loss: 1.6034e-04 - val_loss: 0.0015\n",
            "Epoch 66/100\n",
            "22/22 [==============================] - 4s 199ms/step - loss: 1.5673e-04 - val_loss: 7.2697e-04\n",
            "Epoch 67/100\n",
            "22/22 [==============================] - 4s 200ms/step - loss: 1.9169e-04 - val_loss: 0.0019\n",
            "Epoch 68/100\n",
            "22/22 [==============================] - 4s 200ms/step - loss: 1.5336e-04 - val_loss: 0.0011\n",
            "Epoch 69/100\n",
            "22/22 [==============================] - 4s 203ms/step - loss: 1.4071e-04 - val_loss: 8.7780e-04\n",
            "Epoch 70/100\n",
            "22/22 [==============================] - 4s 203ms/step - loss: 1.4967e-04 - val_loss: 0.0016\n",
            "Epoch 71/100\n",
            "22/22 [==============================] - 4s 200ms/step - loss: 1.4565e-04 - val_loss: 0.0011\n",
            "Epoch 72/100\n",
            "22/22 [==============================] - 4s 201ms/step - loss: 1.6657e-04 - val_loss: 6.2651e-04\n",
            "Epoch 73/100\n",
            "22/22 [==============================] - 4s 200ms/step - loss: 1.4903e-04 - val_loss: 0.0011\n",
            "Epoch 74/100\n",
            "22/22 [==============================] - 4s 200ms/step - loss: 1.6067e-04 - val_loss: 0.0025\n",
            "Epoch 75/100\n",
            "22/22 [==============================] - 4s 200ms/step - loss: 1.8194e-04 - val_loss: 7.3997e-04\n",
            "Epoch 76/100\n",
            "22/22 [==============================] - 4s 200ms/step - loss: 1.5324e-04 - val_loss: 0.0023\n",
            "Epoch 77/100\n",
            "22/22 [==============================] - 4s 204ms/step - loss: 1.5519e-04 - val_loss: 8.0182e-04\n",
            "Epoch 78/100\n",
            "22/22 [==============================] - 4s 202ms/step - loss: 1.6942e-04 - val_loss: 0.0020\n",
            "Epoch 79/100\n",
            "22/22 [==============================] - 5s 206ms/step - loss: 1.4808e-04 - val_loss: 6.8110e-04\n",
            "Epoch 80/100\n",
            "22/22 [==============================] - 4s 202ms/step - loss: 1.4240e-04 - val_loss: 0.0012\n",
            "Epoch 81/100\n",
            "22/22 [==============================] - 4s 203ms/step - loss: 1.3347e-04 - val_loss: 0.0018\n",
            "Epoch 82/100\n",
            "22/22 [==============================] - 4s 203ms/step - loss: 1.4271e-04 - val_loss: 0.0012\n",
            "Epoch 83/100\n",
            "22/22 [==============================] - 4s 201ms/step - loss: 1.3291e-04 - val_loss: 0.0013\n",
            "Epoch 84/100\n",
            "22/22 [==============================] - 5s 206ms/step - loss: 1.2702e-04 - val_loss: 0.0010\n",
            "Epoch 85/100\n",
            "22/22 [==============================] - 4s 205ms/step - loss: 1.2871e-04 - val_loss: 6.7615e-04\n",
            "Epoch 86/100\n",
            "22/22 [==============================] - 4s 203ms/step - loss: 1.7292e-04 - val_loss: 0.0024\n",
            "Epoch 87/100\n",
            "22/22 [==============================] - 4s 205ms/step - loss: 1.4925e-04 - val_loss: 0.0015\n",
            "Epoch 88/100\n",
            "22/22 [==============================] - 4s 201ms/step - loss: 1.3832e-04 - val_loss: 6.9887e-04\n",
            "Epoch 89/100\n",
            "22/22 [==============================] - 4s 200ms/step - loss: 1.5011e-04 - val_loss: 0.0012\n",
            "Epoch 90/100\n",
            "22/22 [==============================] - 4s 203ms/step - loss: 1.4834e-04 - val_loss: 0.0018\n",
            "Epoch 91/100\n",
            "22/22 [==============================] - 4s 204ms/step - loss: 1.2807e-04 - val_loss: 9.6800e-04\n",
            "Epoch 92/100\n",
            "22/22 [==============================] - 5s 209ms/step - loss: 1.3298e-04 - val_loss: 8.9191e-04\n",
            "Epoch 93/100\n",
            "22/22 [==============================] - 4s 204ms/step - loss: 1.3312e-04 - val_loss: 0.0015\n",
            "Epoch 94/100\n",
            "22/22 [==============================] - 4s 205ms/step - loss: 1.2970e-04 - val_loss: 0.0010\n",
            "Epoch 95/100\n",
            "22/22 [==============================] - 5s 209ms/step - loss: 1.3066e-04 - val_loss: 0.0016\n",
            "Epoch 96/100\n",
            "22/22 [==============================] - 5s 206ms/step - loss: 1.2377e-04 - val_loss: 0.0010\n",
            "Epoch 97/100\n",
            "22/22 [==============================] - 4s 204ms/step - loss: 1.2672e-04 - val_loss: 0.0015\n",
            "Epoch 98/100\n",
            "22/22 [==============================] - 4s 203ms/step - loss: 1.2252e-04 - val_loss: 0.0019\n",
            "Epoch 99/100\n",
            "22/22 [==============================] - 5s 206ms/step - loss: 1.3227e-04 - val_loss: 0.0012\n",
            "Epoch 100/100\n",
            "22/22 [==============================] - 4s 202ms/step - loss: 1.3163e-04 - val_loss: 0.0014\n"
          ]
        },
        {
          "output_type": "execute_result",
          "data": {
            "text/plain": [
              "<keras.callbacks.History at 0x7f34bd68f350>"
            ]
          },
          "metadata": {},
          "execution_count": 116
        }
      ],
      "source": [
        "model.fit(X_train,Y_train,validation_data=(X_test,ytest),epochs=100,batch_size=64,verbose=1)"
      ]
    },
    {
      "cell_type": "markdown",
      "source": [
        "# **Predicting closing values**"
      ],
      "metadata": {
        "id": "ERWsKK2oJ_26"
      }
    },
    {
      "cell_type": "code",
      "execution_count": 117,
      "metadata": {
        "id": "GwIF6PcfgJB6"
      },
      "outputs": [],
      "source": [
        "import tensorflow as tf"
      ]
    },
    {
      "cell_type": "code",
      "execution_count": 118,
      "metadata": {
        "id": "NK2Tz3UoiL75"
      },
      "outputs": [],
      "source": [
        "train_predict = model.predict(X_train)\n",
        "test_predict = model.predict(X_test)"
      ]
    },
    {
      "cell_type": "code",
      "execution_count": 119,
      "metadata": {
        "id": "Eg_XgcCPigPZ"
      },
      "outputs": [],
      "source": [
        "train_predict=scaler.inverse_transform(train_predict)\n",
        "test_predict=scaler.inverse_transform(test_predict)"
      ]
    },
    {
      "cell_type": "code",
      "execution_count": 120,
      "metadata": {
        "colab": {
          "base_uri": "https://localhost:8080/"
        },
        "id": "xSRhA--ljDIv",
        "outputId": "f82bb839-c166-4a70-f02e-1b9adf9f9d8e"
      },
      "outputs": [
        {
          "output_type": "execute_result",
          "data": {
            "text/plain": [
              "132.70494656399194"
            ]
          },
          "metadata": {},
          "execution_count": 120
        }
      ],
      "source": [
        "import math\n",
        "from sklearn.metrics import mean_squared_error\n",
        "math.sqrt(mean_squared_error(Y_train,train_predict))"
      ]
    },
    {
      "cell_type": "code",
      "execution_count": 121,
      "metadata": {
        "colab": {
          "base_uri": "https://localhost:8080/"
        },
        "id": "tLI7uXXLlaBE",
        "outputId": "a9833495-244e-4d55-c87d-088a4c4f646f"
      },
      "outputs": [
        {
          "output_type": "execute_result",
          "data": {
            "text/plain": [
              "212.16214203528537"
            ]
          },
          "metadata": {},
          "execution_count": 121
        }
      ],
      "source": [
        "math.sqrt(mean_squared_error(ytest,test_predict))"
      ]
    },
    {
      "cell_type": "markdown",
      "source": [
        "# **Plotting our predictions and trained data**"
      ],
      "metadata": {
        "id": "G42fYsH9BEhT"
      }
    },
    {
      "cell_type": "code",
      "execution_count": 122,
      "metadata": {
        "colab": {
          "base_uri": "https://localhost:8080/",
          "height": 265
        },
        "id": "gUUOmHWmlpxt",
        "outputId": "e9b28eda-9d1b-4c42-9c0b-da0ad17a9842"
      },
      "outputs": [
        {
          "output_type": "display_data",
          "data": {
            "image/png": "[encoded data removed]",
            "text/plain": [
              "<Figure size 432x288 with 1 Axes>"
            ]
          },
          "metadata": {
            "needs_background": "light"
          }
        }
      ],
      "source": [
        "look_back=100\n",
        "trainPredictPlot = np.empty_like(df2)\n",
        "trainPredictPlot[:,:]=np.nan\n",
        "trainPredictPlot[look_back:len(train_predict)+look_back,:]= train_predict\n",
        "testPredictPlot = np.empty_like(df2)\n",
        "testPredictPlot[:, :] = np.nan\n",
        "testPredictPlot[len(train_predict)+(look_back*2)+1:len(df2)-1, :] = test_predict\n",
        "# plot baseline and predictions\n",
        "plt.plot(scaler.inverse_transform(df2))\n",
        "plt.plot(trainPredictPlot)\n",
        "plt.plot(testPredictPlot)\n",
        "plt.show()"
      ]
    },
    {
      "cell_type": "markdown",
      "source": [
        "# **Conclusion**\n",
        "We've come to the conclusion that the LSTM model has a lower loss rate and is more efficient and accurate in predicting stock market prices or time series data."
      ],
      "metadata": {
        "id": "dSQK0HAUGbPO"
      }
    }
  ],
  "metadata": {
    "colab": {
      "collapsed_sections": [
        "TmiZJum_vRJS",
        "cfJa7VMMvqT-",
        "Y8EB95g-v8tN",
        "9_YblRCzwMhR",
        "aoZ0lQ8GwYmB",
        "dhYcfUnrw3GI",
        "c5WI4ydh_xip",
        "DA-B4IM4AKCb",
        "z9goZtWBAl-m",
        "IkphiW24AyTe",
        "ERWsKK2oJ_26",
        "G42fYsH9BEhT"
      ],
      "name": "Stock_Market_Prediction.ipynb",
      "provenance": []
    },
    "kernelspec": {
      "display_name": "Python 3",
      "name": "python3"
    },
    "language_info": {
      "name": "python"
    }
  },
  "nbformat": 4,
  "nbformat_minor": 0
}